{
 "cells": [
  {
   "cell_type": "markdown",
   "id": "e83c50d7",
   "metadata": {
    "colab_type": "text",
    "id": "view-in-github"
   },
   "source": [
    "<a href=\"https://colab.research.google.com/github/AmarnadhReddy055/Jigsaw-Multilabel-Toxic-Comment-Classification/blob/main/Multi_Label_Classification.ipynb\" target=\"_parent\"><img src=\"https://colab.research.google.com/assets/colab-badge.svg\" alt=\"Open In Colab\"/></a>"
   ]
  },
  {
   "cell_type": "code",
   "execution_count": 2,
   "id": "04e6712d",
   "metadata": {
    "id": "04e6712d"
   },
   "outputs": [],
   "source": [
    "import pandas as pd\n",
    "import numpy as np\n",
    "from  matplotlib import pyplot as plt\n",
    "from sklearn.feature_extraction.text import TfidfVectorizer\n",
    "from sklearn.metrics import f1_score\n",
    "from sklearn.metrics import hamming_loss\n",
    "from sklearn import model_selection\n",
    "from sklearn.metrics import log_loss\n",
    "from scipy.sparse import csr_matrix\n",
    "from sklearn.metrics import (confusion_matrix, accuracy_score,precision_score,recall_score,f1_score)"
   ]
  },
  {
   "cell_type": "code",
   "execution_count": 3,
   "id": "18e8ac7d",
   "metadata": {
    "id": "18e8ac7d"
   },
   "outputs": [],
   "source": [
    "import nltk\n",
    "from nltk.corpus import stopwords\n",
    "from nltk.stem import WordNetLemmatizer\n",
    "import re"
   ]
  },
  {
   "cell_type": "code",
   "execution_count": 4,
   "id": "2536c476",
   "metadata": {
    "id": "2536c476"
   },
   "outputs": [],
   "source": [
    "final_data=pd.read_csv('archivo_final.csv')"
   ]
  },
  {
   "cell_type": "code",
   "execution_count": 5,
   "id": "d56aaac9",
   "metadata": {
    "colab": {
     "base_uri": "https://localhost:8080/",
     "height": 206
    },
    "id": "d56aaac9",
    "outputId": "97b4a5e7-2fd4-42f7-9042-dcb4a6351cf8"
   },
   "outputs": [
    {
     "data": {
      "text/html": [
       "<div>\n",
       "<style scoped>\n",
       "    .dataframe tbody tr th:only-of-type {\n",
       "        vertical-align: middle;\n",
       "    }\n",
       "\n",
       "    .dataframe tbody tr th {\n",
       "        vertical-align: top;\n",
       "    }\n",
       "\n",
       "    .dataframe thead th {\n",
       "        text-align: right;\n",
       "    }\n",
       "</style>\n",
       "<table border=\"1\" class=\"dataframe\">\n",
       "  <thead>\n",
       "    <tr style=\"text-align: right;\">\n",
       "      <th></th>\n",
       "      <th>Unnamed: 0</th>\n",
       "      <th>id</th>\n",
       "      <th>comment_text</th>\n",
       "      <th>toxic</th>\n",
       "      <th>severe_toxic</th>\n",
       "      <th>obscene</th>\n",
       "      <th>threat</th>\n",
       "      <th>insult</th>\n",
       "      <th>identity_hate</th>\n",
       "    </tr>\n",
       "  </thead>\n",
       "  <tbody>\n",
       "    <tr>\n",
       "      <th>0</th>\n",
       "      <td>0</td>\n",
       "      <td>0000997932d777bf</td>\n",
       "      <td>explanation edits made username hardcore metal...</td>\n",
       "      <td>0</td>\n",
       "      <td>0</td>\n",
       "      <td>0</td>\n",
       "      <td>0</td>\n",
       "      <td>0</td>\n",
       "      <td>0</td>\n",
       "    </tr>\n",
       "    <tr>\n",
       "      <th>1</th>\n",
       "      <td>1</td>\n",
       "      <td>000103f0d9cfb60f</td>\n",
       "      <td>daww match background colour im seemingly stuc...</td>\n",
       "      <td>0</td>\n",
       "      <td>0</td>\n",
       "      <td>0</td>\n",
       "      <td>0</td>\n",
       "      <td>0</td>\n",
       "      <td>0</td>\n",
       "    </tr>\n",
       "    <tr>\n",
       "      <th>2</th>\n",
       "      <td>2</td>\n",
       "      <td>000113f07ec002fd</td>\n",
       "      <td>hey man im really trying edit war guy constant...</td>\n",
       "      <td>0</td>\n",
       "      <td>0</td>\n",
       "      <td>0</td>\n",
       "      <td>0</td>\n",
       "      <td>0</td>\n",
       "      <td>0</td>\n",
       "    </tr>\n",
       "    <tr>\n",
       "      <th>3</th>\n",
       "      <td>3</td>\n",
       "      <td>0001b41b1c6bb37e</td>\n",
       "      <td>cant make real suggestion improvement wondered...</td>\n",
       "      <td>0</td>\n",
       "      <td>0</td>\n",
       "      <td>0</td>\n",
       "      <td>0</td>\n",
       "      <td>0</td>\n",
       "      <td>0</td>\n",
       "    </tr>\n",
       "    <tr>\n",
       "      <th>4</th>\n",
       "      <td>4</td>\n",
       "      <td>0001d958c54c6e35</td>\n",
       "      <td>sir hero chance remember page thats</td>\n",
       "      <td>0</td>\n",
       "      <td>0</td>\n",
       "      <td>0</td>\n",
       "      <td>0</td>\n",
       "      <td>0</td>\n",
       "      <td>0</td>\n",
       "    </tr>\n",
       "  </tbody>\n",
       "</table>\n",
       "</div>"
      ],
      "text/plain": [
       "   Unnamed: 0                id  \\\n",
       "0           0  0000997932d777bf   \n",
       "1           1  000103f0d9cfb60f   \n",
       "2           2  000113f07ec002fd   \n",
       "3           3  0001b41b1c6bb37e   \n",
       "4           4  0001d958c54c6e35   \n",
       "\n",
       "                                        comment_text  toxic  severe_toxic  \\\n",
       "0  explanation edits made username hardcore metal...      0             0   \n",
       "1  daww match background colour im seemingly stuc...      0             0   \n",
       "2  hey man im really trying edit war guy constant...      0             0   \n",
       "3  cant make real suggestion improvement wondered...      0             0   \n",
       "4                sir hero chance remember page thats      0             0   \n",
       "\n",
       "   obscene  threat  insult  identity_hate  \n",
       "0        0       0       0              0  \n",
       "1        0       0       0              0  \n",
       "2        0       0       0              0  \n",
       "3        0       0       0              0  \n",
       "4        0       0       0              0  "
      ]
     },
     "execution_count": 5,
     "metadata": {},
     "output_type": "execute_result"
    }
   ],
   "source": [
    "final_data.head()"
   ]
  },
  {
   "cell_type": "code",
   "execution_count": 6,
   "id": "d3aa1b4f",
   "metadata": {
    "colab": {
     "base_uri": "https://localhost:8080/"
    },
    "id": "d3aa1b4f",
    "outputId": "6df9a41f-bcc1-458d-f42e-a04e1a52beea"
   },
   "outputs": [
    {
     "data": {
      "text/plain": [
       "(159571, 9)"
      ]
     },
     "execution_count": 6,
     "metadata": {},
     "output_type": "execute_result"
    }
   ],
   "source": [
    "final_data.shape"
   ]
  },
  {
   "cell_type": "code",
   "execution_count": 7,
   "id": "14f76976",
   "metadata": {
    "id": "14f76976"
   },
   "outputs": [],
   "source": [
    "final_data.dropna(inplace=True)\n",
    "final_data.drop_duplicates(inplace=True)"
   ]
  },
  {
   "cell_type": "code",
   "execution_count": 8,
   "id": "6cbe6eff",
   "metadata": {
    "colab": {
     "base_uri": "https://localhost:8080/"
    },
    "id": "6cbe6eff",
    "outputId": "e0d65277-4924-4f18-918b-a954e37f82df"
   },
   "outputs": [
    {
     "data": {
      "text/plain": [
       "(159506, 9)"
      ]
     },
     "execution_count": 8,
     "metadata": {},
     "output_type": "execute_result"
    }
   ],
   "source": [
    "final_data.shape"
   ]
  },
  {
   "cell_type": "markdown",
   "id": "61e2b089",
   "metadata": {
    "id": "61e2b089"
   },
   "source": [
    "# Análisis exploratorio de datos (AED):"
   ]
  },
  {
   "cell_type": "markdown",
   "id": "f12d1088",
   "metadata": {
    "id": "f12d1088"
   },
   "source": [
    "Contar el número de comentarios en cada etiqueta"
   ]
  },
  {
   "cell_type": "code",
   "execution_count": 9,
   "id": "abc90ebc",
   "metadata": {
    "id": "abc90ebc"
   },
   "outputs": [],
   "source": [
    "columns=list(final_data.columns[3:])"
   ]
  },
  {
   "cell_type": "code",
   "execution_count": 10,
   "id": "0d4d957e",
   "metadata": {
    "id": "0d4d957e"
   },
   "outputs": [],
   "source": [
    "values=list(final_data.iloc[:,3:].sum().values)"
   ]
  },
  {
   "cell_type": "code",
   "execution_count": 11,
   "id": "e30bd958",
   "metadata": {
    "colab": {
     "base_uri": "https://localhost:8080/",
     "height": 472
    },
    "id": "e30bd958",
    "outputId": "17ea7fd1-0948-4fff-e3d2-4dbbe7d0aa8a"
   },
   "outputs": [
    {
     "data": {
      "image/png": "[encoded data removed]",
      "text/plain": [
       "<Figure size 640x480 with 1 Axes>"
      ]
     },
     "metadata": {},
     "output_type": "display_data"
    }
   ],
   "source": [
    "c = ['red', 'yellow', 'black', 'blue', 'orange','green']\n",
    "plt.bar(columns,values,color=c)\n",
    "plt.title('Total de comentarios en cada categoría')\n",
    "plt.xlabel('categoría')\n",
    "plt.ylabel('total')\n",
    "plt.savefig('plot.png')\n",
    "plt.show()"
   ]
  },
  {
   "cell_type": "markdown",
   "id": "4d20c500",
   "metadata": {
    "id": "4d20c500"
   },
   "source": [
    "recuento del número de comentarios que pertenecen a varias etiquetas"
   ]
  },
  {
   "cell_type": "code",
   "execution_count": 12,
   "id": "c592c799",
   "metadata": {
    "colab": {
     "base_uri": "https://localhost:8080/"
    },
    "id": "c592c799",
    "outputId": "b4aca1e2-50f6-4ef2-ee3c-c20f88083747"
   },
   "outputs": [
    {
     "name": "stderr",
     "output_type": "stream",
     "text": [
      "C:\\Users\\usuario\\AppData\\Local\\Temp\\ipykernel_24088\\3964306647.py:1: FutureWarning: Dropping of nuisance columns in DataFrame reductions (with 'numeric_only=None') is deprecated; in a future version this will raise TypeError.  Select only valid columns before calling the reduction.\n",
      "  value=final_data.iloc[:,2:].sum(axis=1)\n"
     ]
    }
   ],
   "source": [
    "value=final_data.iloc[:,2:].sum(axis=1)"
   ]
  },
  {
   "cell_type": "code",
   "execution_count": 13,
   "id": "6ac97c11",
   "metadata": {
    "id": "6ac97c11"
   },
   "outputs": [],
   "source": [
    "labels_count=value.value_counts()"
   ]
  },
  {
   "cell_type": "code",
   "execution_count": 14,
   "id": "cb2c1e89",
   "metadata": {
    "id": "cb2c1e89"
   },
   "outputs": [],
   "source": [
    "labels_count=labels_count.iloc[1:]"
   ]
  },
  {
   "cell_type": "code",
   "execution_count": 15,
   "id": "e16d3e3b",
   "metadata": {
    "colab": {
     "base_uri": "https://localhost:8080/"
    },
    "id": "e16d3e3b",
    "outputId": "e035260c-c0dd-4840-df29-743e2ebf3f73"
   },
   "outputs": [
    {
     "name": "stdout",
     "output_type": "stream",
     "text": [
      "Int64Index([1, 3, 2, 4, 5, 6], dtype='int64')\n"
     ]
    }
   ],
   "source": [
    "print(labels_count.index)"
   ]
  },
  {
   "cell_type": "code",
   "execution_count": 16,
   "id": "7bfa120a",
   "metadata": {
    "colab": {
     "base_uri": "https://localhost:8080/",
     "height": 472
    },
    "id": "7bfa120a",
    "outputId": "dba4cac9-643a-437f-a394-5f03ad7dac7f"
   },
   "outputs": [
    {
     "data": {
      "image/png": "[encoded data removed]",
      "text/plain": [
       "<Figure size 640x480 with 1 Axes>"
      ]
     },
     "metadata": {},
     "output_type": "display_data"
    }
   ],
   "source": [
    "c = ['red', 'yellow', 'black', 'blue', 'orange','green']\n",
    "plt.bar(labels_count.index,labels_count,color=c)\n",
    "plt.title('Total de comentarios en cada categoría')\n",
    "plt.xlabel('Categoría')\n",
    "plt.ylabel('Total')\n",
    "plt.show()"
   ]
  },
  {
   "cell_type": "markdown",
   "id": "7cb109ad",
   "metadata": {
    "id": "7cb109ad"
   },
   "source": [
    "# TF-IDF "
   ]
  },
  {
   "cell_type": "code",
   "execution_count": 17,
   "id": "3b77c3d9",
   "metadata": {
    "id": "3b77c3d9"
   },
   "outputs": [],
   "source": [
    "from sklearn import model_selection,preprocessing\n",
    "from sklearn.metrics import accuracy_score"
   ]
  },
  {
   "cell_type": "code",
   "execution_count": 18,
   "id": "def80192",
   "metadata": {
    "id": "def80192"
   },
   "outputs": [],
   "source": [
    "vectorizer=TfidfVectorizer(max_features=10000)\n",
    "vectors=vectorizer.fit_transform(final_data['comment_text'])"
   ]
  },
  {
   "cell_type": "code",
   "execution_count": 19,
   "id": "a962434f",
   "metadata": {
    "colab": {
     "base_uri": "https://localhost:8080/"
    },
    "id": "a962434f",
    "outputId": "06ef2b9e-5adc-4ec2-dfef-8a8204f80f38"
   },
   "outputs": [
    {
     "name": "stdout",
     "output_type": "stream",
     "text": [
      "(159506, 10000)\n"
     ]
    }
   ],
   "source": [
    "print(vectors.shape)"
   ]
  },
  {
   "cell_type": "code",
   "execution_count": 20,
   "id": "46f1a2e4",
   "metadata": {
    "id": "46f1a2e4"
   },
   "outputs": [],
   "source": [
    "X_train,X_test,Y_train,Y_test=model_selection.train_test_split(vectors,final_data.iloc[:,3:],test_size=0.2)"
   ]
  },
  {
   "cell_type": "markdown",
   "id": "9c1e57d8",
   "metadata": {
    "id": "9c1e57d8"
   },
   "source": [
    "# Construcción de modelos"
   ]
  },
  {
   "cell_type": "markdown",
   "id": "4f8facfa",
   "metadata": {
    "id": "4f8facfa"
   },
   "source": [
    "# Model1- Uso del clasificador en cadena Regresión logística"
   ]
  },
  {
   "cell_type": "code",
   "execution_count": 21,
   "id": "4YXw0suLX43V",
   "metadata": {
    "colab": {
     "base_uri": "https://localhost:8080/"
    },
    "id": "4YXw0suLX43V",
    "outputId": "e15bc6d1-fac5-4f85-943f-53ffe02b53c4"
   },
   "outputs": [
    {
     "name": "stdout",
     "output_type": "stream",
     "text": [
      "Defaulting to user installation because normal site-packages is not writeable\n",
      "Requirement already satisfied: scikit-multilearn in c:\\users\\usuario\\appdata\\roaming\\python\\python39\\site-packages (0.2.0)\n",
      "Note: you may need to restart the kernel to use updated packages.\n"
     ]
    }
   ],
   "source": [
    "pip install scikit-multilearn"
   ]
  },
  {
   "cell_type": "code",
   "execution_count": 22,
   "id": "ee2b31d3",
   "metadata": {
    "id": "ee2b31d3"
   },
   "outputs": [],
   "source": [
    "from sklearn.linear_model import LogisticRegression\n",
    "from sklearn.metrics import classification_report\n",
    "from sklearn.metrics import multilabel_confusion_matrix\n",
    "from skmultilearn.problem_transform import ClassifierChain\n",
    "from sklearn.multioutput import ClassifierChain"
   ]
  },
  {
   "cell_type": "code",
   "execution_count": 23,
   "id": "11b814a7",
   "metadata": {
    "id": "11b814a7"
   },
   "outputs": [],
   "source": [
    "from sklearn.metrics import confusion_matrix"
   ]
  },
  {
   "cell_type": "code",
   "execution_count": 24,
   "id": "6358143a",
   "metadata": {
    "colab": {
     "base_uri": "https://localhost:8080/",
     "height": 116
    },
    "id": "6358143a",
    "outputId": "a763f534-0f8d-44b7-d747-d8a11eea7530"
   },
   "outputs": [
    {
     "data": {
      "text/plain": [
       "ClassifierChain(base_estimator=LogisticRegression(max_iter=1000))"
      ]
     },
     "execution_count": 24,
     "metadata": {},
     "output_type": "execute_result"
    }
   ],
   "source": [
    "model1=ClassifierChain(LogisticRegression(max_iter=1000))\n",
    "model1.fit(X_train,Y_train)"
   ]
  },
  {
   "cell_type": "code",
   "execution_count": 25,
   "id": "72a2693f",
   "metadata": {
    "colab": {
     "base_uri": "https://localhost:8080/"
    },
    "id": "72a2693f",
    "outputId": "f5c48171-6c16-4533-a2fa-7c2bc92dcf85"
   },
   "outputs": [
    {
     "data": {
      "text/plain": [
       "0.018990449919545273"
      ]
     },
     "execution_count": 25,
     "metadata": {},
     "output_type": "execute_result"
    }
   ],
   "source": [
    "hamming_loss(model1.predict(X_test),Y_test)"
   ]
  },
  {
   "cell_type": "code",
   "execution_count": 26,
   "id": "f32db4c9",
   "metadata": {
    "colab": {
     "base_uri": "https://localhost:8080/"
    },
    "id": "f32db4c9",
    "outputId": "89625ee3-bc13-4645-de1b-6bad55805a6c"
   },
   "outputs": [
    {
     "data": {
      "text/plain": [
       "0.8034867492214665"
      ]
     },
     "execution_count": 26,
     "metadata": {},
     "output_type": "execute_result"
    }
   ],
   "source": [
    "log_loss(model1.predict(X_test),Y_test)"
   ]
  },
  {
   "cell_type": "code",
   "execution_count": 34,
   "id": "9e004ed9",
   "metadata": {
    "colab": {
     "base_uri": "https://localhost:8080/"
    },
    "id": "9e004ed9",
    "outputId": "9ba20040-3380-4f02-fc2e-4f4b9c9c44d0",
    "scrolled": true
   },
   "outputs": [
    {
     "name": "stdout",
     "output_type": "stream",
     "text": [
      "               precision    recall  f1-score   support\n",
      "\n",
      "        toxic       0.62      0.91      0.74      2122\n",
      " severe_toxic       0.21      0.56      0.31       124\n",
      "      obscene       0.71      0.89      0.79      1397\n",
      "       threat       0.12      0.73      0.20        15\n",
      "       insult       0.63      0.75      0.68      1366\n",
      "identity_hate       0.25      0.72      0.37       101\n",
      "\n",
      "    micro avg       0.60      0.85      0.71      5125\n",
      "    macro avg       0.42      0.76      0.52      5125\n",
      " weighted avg       0.63      0.85      0.72      5125\n",
      "  samples avg       0.05      0.06      0.05      5125\n",
      "\n"
     ]
    }
   ],
   "source": [
    "print(classification_report(model1.predict(X_test),Y_test,target_names=columns,zero_division=0))"
   ]
  },
  {
   "cell_type": "code",
   "execution_count": 28,
   "id": "fe63aad7",
   "metadata": {},
   "outputs": [
    {
     "name": "stdout",
     "output_type": "stream",
     "text": [
      "La puntuación del modelo 1 es :  0.92022 \n"
     ]
    }
   ],
   "source": [
    "from sklearn.metrics import accuracy_score\n",
    "print(\"La puntuación del modelo 1 es :  %2.5f \" %(accuracy_score(model1.predict(X_test),Y_test)))"
   ]
  },
  {
   "cell_type": "markdown",
   "id": "b9d7a764",
   "metadata": {
    "id": "b9d7a764"
   },
   "source": [
    "# Model2- Regresión logística con relación binaria"
   ]
  },
  {
   "cell_type": "code",
   "execution_count": 42,
   "id": "68670513",
   "metadata": {
    "id": "68670513"
   },
   "outputs": [],
   "source": [
    "from skmultilearn.problem_transform import BinaryRelevance"
   ]
  },
  {
   "cell_type": "code",
   "execution_count": 43,
   "id": "75de2ed8",
   "metadata": {
    "colab": {
     "base_uri": "https://localhost:8080/",
     "height": 116
    },
    "id": "75de2ed8",
    "outputId": "4886fc83-12e4-4ec5-f313-e86f85f9bf97"
   },
   "outputs": [
    {
     "data": {
      "text/plain": [
       "BinaryRelevance(classifier=LogisticRegression(max_iter=1000),\n",
       "                require_dense=[True, True])"
      ]
     },
     "execution_count": 43,
     "metadata": {},
     "output_type": "execute_result"
    }
   ],
   "source": [
    "model2=BinaryRelevance(LogisticRegression(max_iter=1000))\n",
    "model2.fit(X_train,Y_train)"
   ]
  },
  {
   "cell_type": "code",
   "execution_count": 44,
   "id": "943f4968",
   "metadata": {
    "colab": {
     "base_uri": "https://localhost:8080/"
    },
    "id": "943f4968",
    "outputId": "aa9ebf6b-a6f7-42d2-c6d0-de6f009bc09d"
   },
   "outputs": [
    {
     "data": {
      "text/plain": [
       "0.019314358556412347"
      ]
     },
     "execution_count": 44,
     "metadata": {},
     "output_type": "execute_result"
    }
   ],
   "source": [
    "hamming_loss(model2.predict(X_test),Y_test)"
   ]
  },
  {
   "cell_type": "code",
   "execution_count": 45,
   "id": "877fed9f",
   "metadata": {
    "colab": {
     "base_uri": "https://localhost:8080/"
    },
    "id": "877fed9f",
    "outputId": "dd51ec6d-4921-426b-c810-53f9850af5e3"
   },
   "outputs": [
    {
     "data": {
      "text/plain": [
       "0.6119830224183593"
      ]
     },
     "execution_count": 45,
     "metadata": {},
     "output_type": "execute_result"
    }
   ],
   "source": [
    "log_loss(model2.predict(X_test),Y_test)"
   ]
  },
  {
   "cell_type": "code",
   "execution_count": 46,
   "id": "b7588ddc",
   "metadata": {
    "colab": {
     "base_uri": "https://localhost:8080/"
    },
    "id": "b7588ddc",
    "outputId": "01e91802-8f7f-49e6-95f8-5f3ee3a10099"
   },
   "outputs": [
    {
     "name": "stdout",
     "output_type": "stream",
     "text": [
      "               precision    recall  f1-score   support\n",
      "\n",
      "        toxic       0.62      0.91      0.74      2122\n",
      " severe_toxic       0.26      0.52      0.35       164\n",
      "      obscene       0.65      0.92      0.76      1235\n",
      "       threat       0.12      0.73      0.20        15\n",
      "       insult       0.53      0.83      0.65      1040\n",
      "identity_hate       0.23      0.74      0.35        91\n",
      "\n",
      "    micro avg       0.57      0.88      0.69      4667\n",
      "    macro avg       0.40      0.77      0.51      4667\n",
      " weighted avg       0.58      0.88      0.70      4667\n",
      "  samples avg       0.05      0.06      0.05      4667\n",
      "\n"
     ]
    }
   ],
   "source": [
    "print(classification_report(model2.predict(X_test),Y_test,target_names=columns,zero_division=0))"
   ]
  },
  {
   "cell_type": "code",
   "execution_count": 47,
   "id": "345bf72e",
   "metadata": {},
   "outputs": [
    {
     "name": "stdout",
     "output_type": "stream",
     "text": [
      "La puntuación del modelo 2 es :  0.91816 \n"
     ]
    }
   ],
   "source": [
    "from sklearn.metrics import accuracy_score\n",
    "print(\"La puntuación del modelo 2 es :  %2.5f \" %(accuracy_score(model2.predict(X_test),Y_test)))"
   ]
  },
  {
   "cell_type": "markdown",
   "id": "5f15458a",
   "metadata": {
    "id": "5f15458a"
   },
   "source": [
    "# Model3-Método de clasificación en cadena mediante NaiveBayes"
   ]
  },
  {
   "cell_type": "code",
   "execution_count": 48,
   "id": "fd30ee04",
   "metadata": {
    "id": "fd30ee04"
   },
   "outputs": [],
   "source": [
    "from sklearn.naive_bayes import MultinomialNB\n",
    "from sklearn.multioutput import MultiOutputClassifier"
   ]
  },
  {
   "cell_type": "code",
   "execution_count": 49,
   "id": "270a4eb2",
   "metadata": {
    "colab": {
     "base_uri": "https://localhost:8080/",
     "height": 116
    },
    "id": "270a4eb2",
    "outputId": "a3ecc48d-3426-439e-f4c7-0afbf80b3089"
   },
   "outputs": [
    {
     "data": {
      "text/plain": [
       "ClassifierChain(base_estimator=MultinomialNB())"
      ]
     },
     "execution_count": 49,
     "metadata": {},
     "output_type": "execute_result"
    }
   ],
   "source": [
    "model3=ClassifierChain(MultinomialNB())\n",
    "model3.fit(X_train,Y_train)"
   ]
  },
  {
   "cell_type": "code",
   "execution_count": 50,
   "id": "58d693a9",
   "metadata": {
    "colab": {
     "base_uri": "https://localhost:8080/"
    },
    "id": "58d693a9",
    "outputId": "99a48b6e-de98-4529-ce1e-99e0acd92f17"
   },
   "outputs": [
    {
     "data": {
      "text/plain": [
       "0.02559400664535139"
      ]
     },
     "execution_count": 50,
     "metadata": {},
     "output_type": "execute_result"
    }
   ],
   "source": [
    "hamming_loss(model3.predict(X_test),Y_test)"
   ]
  },
  {
   "cell_type": "code",
   "execution_count": 51,
   "id": "b0303902",
   "metadata": {
    "colab": {
     "base_uri": "https://localhost:8080/"
    },
    "id": "b0303902",
    "outputId": "4369aa36-2145-46f4-c9dc-45ec5a0f12ba"
   },
   "outputs": [
    {
     "data": {
      "text/plain": [
       "1.9422150167568053"
      ]
     },
     "execution_count": 51,
     "metadata": {},
     "output_type": "execute_result"
    }
   ],
   "source": [
    "log_loss(model3.predict(X_test),Y_test)"
   ]
  },
  {
   "cell_type": "code",
   "execution_count": 52,
   "id": "6198efb1",
   "metadata": {
    "colab": {
     "base_uri": "https://localhost:8080/"
    },
    "id": "6198efb1",
    "outputId": "a74227f9-b218-4fad-a925-f7205f9d78c9"
   },
   "outputs": [
    {
     "name": "stdout",
     "output_type": "stream",
     "text": [
      "               precision    recall  f1-score   support\n",
      "\n",
      "        toxic       0.51      0.93      0.66      1720\n",
      " severe_toxic       0.29      0.51      0.37       185\n",
      "      obscene       0.71      0.75      0.73      1658\n",
      "       threat       0.00      0.00      0.00         4\n",
      "       insult       0.69      0.68      0.69      1660\n",
      "identity_hate       0.55      0.18      0.27       886\n",
      "\n",
      "    micro avg       0.58      0.69      0.63      6113\n",
      "    macro avg       0.46      0.51      0.45      6113\n",
      " weighted avg       0.61      0.69      0.62      6113\n",
      "  samples avg       0.05      0.04      0.04      6113\n",
      "\n"
     ]
    }
   ],
   "source": [
    "print(classification_report(model3.predict(X_test),Y_test,target_names=columns,zero_division=0))"
   ]
  },
  {
   "cell_type": "code",
   "execution_count": 53,
   "id": "7ef0b739",
   "metadata": {},
   "outputs": [
    {
     "name": "stdout",
     "output_type": "stream",
     "text": [
      "La puntuación del modelo 3 es :  0.90480 \n"
     ]
    }
   ],
   "source": [
    "from sklearn.metrics import accuracy_score\n",
    "print(\"La puntuación del modelo 3 es :  %2.5f \" %(accuracy_score(model3.predict(X_test),Y_test)))"
   ]
  },
  {
   "cell_type": "markdown",
   "id": "5bba9a9d",
   "metadata": {
    "id": "5bba9a9d"
   },
   "source": [
    "# Model4- Relevancia binaria utilizando NaiveBayes"
   ]
  },
  {
   "cell_type": "code",
   "execution_count": 54,
   "id": "fb49cb1a",
   "metadata": {
    "colab": {
     "base_uri": "https://localhost:8080/",
     "height": 116
    },
    "id": "fb49cb1a",
    "outputId": "d5be3de5-77d0-4b3f-c752-5ece6c0ab2d5"
   },
   "outputs": [
    {
     "data": {
      "text/plain": [
       "BinaryRelevance(classifier=MultinomialNB(), require_dense=[True, True])"
      ]
     },
     "execution_count": 54,
     "metadata": {},
     "output_type": "execute_result"
    }
   ],
   "source": [
    "model4=BinaryRelevance(MultinomialNB())\n",
    "model4.fit(X_train,Y_train)"
   ]
  },
  {
   "cell_type": "code",
   "execution_count": 55,
   "id": "b310aba7",
   "metadata": {
    "colab": {
     "base_uri": "https://localhost:8080/"
    },
    "id": "b310aba7",
    "outputId": "d1f49ed3-ecd9-4064-b578-11debf294f06"
   },
   "outputs": [
    {
     "data": {
      "text/plain": [
       "0.02263180991787349"
      ]
     },
     "execution_count": 55,
     "metadata": {},
     "output_type": "execute_result"
    }
   ],
   "source": [
    "hamming_loss(model4.predict(X_test),Y_test)"
   ]
  },
  {
   "cell_type": "code",
   "execution_count": 56,
   "id": "8d487cc9",
   "metadata": {
    "colab": {
     "base_uri": "https://localhost:8080/"
    },
    "id": "8d487cc9",
    "outputId": "cb9e8a49-09a8-4261-dfe9-4598bb3c0657"
   },
   "outputs": [
    {
     "data": {
      "text/plain": [
       "0.39595970768257854"
      ]
     },
     "execution_count": 56,
     "metadata": {},
     "output_type": "execute_result"
    }
   ],
   "source": [
    "log_loss(model4.predict(X_test),Y_test)"
   ]
  },
  {
   "cell_type": "code",
   "execution_count": 57,
   "id": "78254dba",
   "metadata": {
    "colab": {
     "base_uri": "https://localhost:8080/"
    },
    "id": "78254dba",
    "outputId": "7c9afffd-ea65-4a4b-978b-c2866fde637e"
   },
   "outputs": [
    {
     "name": "stdout",
     "output_type": "stream",
     "text": [
      "               precision    recall  f1-score   support\n",
      "\n",
      "        toxic       0.51      0.93      0.66      1720\n",
      " severe_toxic       0.11      0.65      0.19        55\n",
      "      obscene       0.52      0.91      0.66       990\n",
      "       threat       0.00      0.00      0.00         1\n",
      "       insult       0.43      0.85      0.57       825\n",
      "identity_hate       0.02      0.54      0.05        13\n",
      "\n",
      "    micro avg       0.45      0.90      0.60      3604\n",
      "    macro avg       0.27      0.65      0.35      3604\n",
      " weighted avg       0.49      0.90      0.63      3604\n",
      "  samples avg       0.04      0.05      0.04      3604\n",
      "\n"
     ]
    }
   ],
   "source": [
    "print(classification_report(model4.predict(X_test),Y_test,target_names=columns,zero_division=0))"
   ]
  },
  {
   "cell_type": "code",
   "execution_count": 58,
   "id": "65765302",
   "metadata": {},
   "outputs": [
    {
     "name": "stdout",
     "output_type": "stream",
     "text": [
      "La puntuación del modelo 4 es :  0.91113 \n"
     ]
    }
   ],
   "source": [
    "from sklearn.metrics import accuracy_score\n",
    "print(\"La puntuación del modelo 4 es :  %2.5f \" %(accuracy_score(model4.predict(X_test),Y_test)))"
   ]
  },
  {
   "cell_type": "markdown",
   "id": "725fe0e7",
   "metadata": {
    "id": "725fe0e7"
   },
   "source": [
    "# Model5- Uso del clasificador en cadena SVM"
   ]
  },
  {
   "cell_type": "code",
   "execution_count": 59,
   "id": "cb23357a",
   "metadata": {
    "id": "cb23357a"
   },
   "outputs": [],
   "source": [
    "from sklearn.svm import LinearSVC"
   ]
  },
  {
   "cell_type": "code",
   "execution_count": 60,
   "id": "ec918d16",
   "metadata": {
    "id": "ec918d16"
   },
   "outputs": [],
   "source": [
    "model5=ClassifierChain(LinearSVC())"
   ]
  },
  {
   "cell_type": "code",
   "execution_count": 61,
   "id": "3f32711b",
   "metadata": {
    "colab": {
     "base_uri": "https://localhost:8080/",
     "height": 116
    },
    "id": "3f32711b",
    "outputId": "19de8845-67a6-453a-ca80-63a2e312ef43"
   },
   "outputs": [
    {
     "data": {
      "text/plain": [
       "ClassifierChain(base_estimator=LinearSVC())"
      ]
     },
     "execution_count": 61,
     "metadata": {},
     "output_type": "execute_result"
    }
   ],
   "source": [
    "model5.fit(X_train,Y_train)"
   ]
  },
  {
   "cell_type": "code",
   "execution_count": 62,
   "id": "90d36004",
   "metadata": {
    "colab": {
     "base_uri": "https://localhost:8080/"
    },
    "id": "90d36004",
    "outputId": "ad0855f1-e8ea-420c-b10a-d0b5bbc5a69a"
   },
   "outputs": [
    {
     "data": {
      "text/plain": [
       "0.018802373936848263"
      ]
     },
     "execution_count": 62,
     "metadata": {},
     "output_type": "execute_result"
    }
   ],
   "source": [
    "hamming_loss(model5.predict(X_test),Y_test)"
   ]
  },
  {
   "cell_type": "code",
   "execution_count": 63,
   "id": "3d58f751",
   "metadata": {
    "colab": {
     "base_uri": "https://localhost:8080/"
    },
    "id": "3d58f751",
    "outputId": "d24404b7-6fd9-40a6-ab8d-0984c760f2bb"
   },
   "outputs": [
    {
     "data": {
      "text/plain": [
       "0.9543848635278986"
      ]
     },
     "execution_count": 63,
     "metadata": {},
     "output_type": "execute_result"
    }
   ],
   "source": [
    "log_loss(model5.predict(X_test),Y_test)"
   ]
  },
  {
   "cell_type": "code",
   "execution_count": 64,
   "id": "a8b797c8",
   "metadata": {
    "colab": {
     "base_uri": "https://localhost:8080/"
    },
    "id": "a8b797c8",
    "outputId": "cba94561-94ce-4389-9ad9-f87e34c82a18"
   },
   "outputs": [
    {
     "name": "stdout",
     "output_type": "stream",
     "text": [
      "               precision    recall  f1-score   support\n",
      "\n",
      "        toxic       0.68      0.87      0.76      2443\n",
      " severe_toxic       0.27      0.49      0.34       179\n",
      "      obscene       0.74      0.87      0.80      1478\n",
      "       threat       0.22      0.66      0.33        32\n",
      "       insult       0.63      0.74      0.68      1392\n",
      "identity_hate       0.32      0.65      0.43       145\n",
      "\n",
      "    micro avg       0.64      0.82      0.72      5669\n",
      "    macro avg       0.48      0.71      0.56      5669\n",
      " weighted avg       0.66      0.82      0.73      5669\n",
      "  samples avg       0.06      0.06      0.06      5669\n",
      "\n"
     ]
    }
   ],
   "source": [
    "print(classification_report(model5.predict(X_test),Y_test,target_names=columns,zero_division=0))"
   ]
  },
  {
   "cell_type": "code",
   "execution_count": 65,
   "id": "4be52b47",
   "metadata": {},
   "outputs": [
    {
     "name": "stdout",
     "output_type": "stream",
     "text": [
      "La puntuación del modelo 5 es :  0.91894 \n"
     ]
    }
   ],
   "source": [
    "from sklearn.metrics import accuracy_score\n",
    "print(\"La puntuación del modelo 5 es :  %2.5f \" %(accuracy_score(model5.predict(X_test),Y_test)))"
   ]
  },
  {
   "cell_type": "markdown",
   "id": "03cc61d9",
   "metadata": {
    "id": "03cc61d9"
   },
   "source": [
    "# Model6-Relevancia binaria mediante SVM"
   ]
  },
  {
   "cell_type": "code",
   "execution_count": 66,
   "id": "ac6f807f",
   "metadata": {
    "id": "ac6f807f"
   },
   "outputs": [],
   "source": [
    "model6=BinaryRelevance(LinearSVC())"
   ]
  },
  {
   "cell_type": "code",
   "execution_count": 67,
   "id": "ba528e88",
   "metadata": {
    "colab": {
     "base_uri": "https://localhost:8080/",
     "height": 116
    },
    "id": "ba528e88",
    "outputId": "6f6199d0-cafc-409b-daf8-82f378cb04bb"
   },
   "outputs": [
    {
     "data": {
      "text/plain": [
       "BinaryRelevance(classifier=LinearSVC(), require_dense=[True, True])"
      ]
     },
     "execution_count": 67,
     "metadata": {},
     "output_type": "execute_result"
    }
   ],
   "source": [
    "model6.fit(X_train,Y_train)"
   ]
  },
  {
   "cell_type": "code",
   "execution_count": 68,
   "id": "0fdff9e8",
   "metadata": {
    "colab": {
     "base_uri": "https://localhost:8080/"
    },
    "id": "0fdff9e8",
    "outputId": "981a46ae-274e-45bc-e2e1-76ee38da43aa"
   },
   "outputs": [
    {
     "data": {
      "text/plain": [
       "0.018535932961360833"
      ]
     },
     "execution_count": 68,
     "metadata": {},
     "output_type": "execute_result"
    }
   ],
   "source": [
    "hamming_loss(model6.predict(X_test),Y_test)"
   ]
  },
  {
   "cell_type": "code",
   "execution_count": 69,
   "id": "269dde9b",
   "metadata": {
    "colab": {
     "base_uri": "https://localhost:8080/"
    },
    "id": "269dde9b",
    "outputId": "a0816afd-a907-42dc-d9f1-1289ce7f7361"
   },
   "outputs": [
    {
     "data": {
      "text/plain": [
       "0.7853598137933725"
      ]
     },
     "execution_count": 69,
     "metadata": {},
     "output_type": "execute_result"
    }
   ],
   "source": [
    "log_loss(model6.predict(X_test),Y_test)"
   ]
  },
  {
   "cell_type": "code",
   "execution_count": 70,
   "id": "8a1e4b08",
   "metadata": {
    "colab": {
     "base_uri": "https://localhost:8080/"
    },
    "id": "8a1e4b08",
    "outputId": "56827e49-2ed0-459d-bd87-be145e35c4bd"
   },
   "outputs": [
    {
     "name": "stdout",
     "output_type": "stream",
     "text": [
      "               precision    recall  f1-score   support\n",
      "\n",
      "        toxic       0.68      0.87      0.76      2443\n",
      " severe_toxic       0.27      0.48      0.35       182\n",
      "      obscene       0.71      0.89      0.79      1394\n",
      "       threat       0.22      0.66      0.33        32\n",
      "       insult       0.59      0.79      0.68      1201\n",
      "identity_hate       0.28      0.66      0.39       122\n",
      "\n",
      "    micro avg       0.63      0.84      0.72      5374\n",
      "    macro avg       0.46      0.73      0.55      5374\n",
      " weighted avg       0.64      0.84      0.73      5374\n",
      "  samples avg       0.06      0.06      0.06      5374\n",
      "\n"
     ]
    }
   ],
   "source": [
    "print(classification_report(model6.predict(X_test),Y_test,target_names=columns,zero_division=0))"
   ]
  },
  {
   "cell_type": "code",
   "execution_count": 71,
   "id": "ac7ea83d",
   "metadata": {},
   "outputs": [
    {
     "name": "stdout",
     "output_type": "stream",
     "text": [
      "La puntuación del modelo 6 es :  0.91906 \n"
     ]
    }
   ],
   "source": [
    "from sklearn.metrics import accuracy_score\n",
    "print(\"La puntuación del modelo 6 es :  %2.5f \" %(accuracy_score(model6.predict(X_test),Y_test)))"
   ]
  },
  {
   "cell_type": "markdown",
   "id": "d386df20",
   "metadata": {
    "id": "d386df20"
   },
   "source": [
    "# Model7- Utilización del clasificador multiresultado XGBOOST (Tree ensembles)"
   ]
  },
  {
   "cell_type": "code",
   "execution_count": 72,
   "id": "1d6661c5",
   "metadata": {
    "id": "1d6661c5"
   },
   "outputs": [],
   "source": [
    "from xgboost import XGBClassifier\n",
    "from sklearn.multioutput import MultiOutputClassifier"
   ]
  },
  {
   "cell_type": "code",
   "execution_count": 73,
   "id": "63157697",
   "metadata": {
    "id": "63157697"
   },
   "outputs": [],
   "source": [
    "model7=MultiOutputClassifier(estimator=XGBClassifier())"
   ]
  },
  {
   "cell_type": "code",
   "execution_count": 74,
   "id": "e01d4e42",
   "metadata": {
    "colab": {
     "base_uri": "https://localhost:8080/",
     "height": 116
    },
    "id": "e01d4e42",
    "outputId": "afb135a5-0550-4240-f085-94520430c108"
   },
   "outputs": [
    {
     "data": {
      "text/plain": [
       "MultiOutputClassifier(estimator=XGBClassifier(base_score=None, booster=None,\n",
       "                                              callbacks=None,\n",
       "                                              colsample_bylevel=None,\n",
       "                                              colsample_bynode=None,\n",
       "                                              colsample_bytree=None,\n",
       "                                              early_stopping_rounds=None,\n",
       "                                              enable_categorical=False,\n",
       "                                              eval_metric=None,\n",
       "                                              feature_types=None, gamma=None,\n",
       "                                              gpu_id=None, grow_policy=None,\n",
       "                                              importance_type=None,\n",
       "                                              interaction_constraints=None,\n",
       "                                              learning_rate=None, max_bin=None,\n",
       "                                              max_cat_threshold=None,\n",
       "                                              max_cat_to_onehot=None,\n",
       "                                              max_delta_step=None,\n",
       "                                              max_depth=None, max_leaves=None,\n",
       "                                              min_child_weight=None,\n",
       "                                              missing=nan,\n",
       "                                              monotone_constraints=None,\n",
       "                                              n_estimators=100, n_jobs=None,\n",
       "                                              num_parallel_tree=None,\n",
       "                                              predictor=None, random_state=None, ...))"
      ]
     },
     "execution_count": 74,
     "metadata": {},
     "output_type": "execute_result"
    }
   ],
   "source": [
    "model7.fit(X_train,Y_train)"
   ]
  },
  {
   "cell_type": "code",
   "execution_count": 75,
   "id": "29b64f27",
   "metadata": {
    "colab": {
     "base_uri": "https://localhost:8080/"
    },
    "id": "29b64f27",
    "outputId": "fe0a2cf0-ef10-40d8-de5f-bbd55b2f5615"
   },
   "outputs": [
    {
     "data": {
      "text/plain": [
       "0.7301390630676231"
      ]
     },
     "execution_count": 75,
     "metadata": {},
     "output_type": "execute_result"
    }
   ],
   "source": [
    "log_loss(model7.predict(X_test),Y_test)"
   ]
  },
  {
   "cell_type": "code",
   "execution_count": 76,
   "id": "fbe696bb",
   "metadata": {
    "colab": {
     "base_uri": "https://localhost:8080/"
    },
    "id": "fbe696bb",
    "outputId": "4872ce5a-143a-4d14-f4c6-7f540abeaf39"
   },
   "outputs": [
    {
     "data": {
      "text/plain": [
       "0.019424069546318937"
      ]
     },
     "execution_count": 76,
     "metadata": {},
     "output_type": "execute_result"
    }
   ],
   "source": [
    "hamming_loss(model7.predict(X_test),Y_test)"
   ]
  },
  {
   "cell_type": "code",
   "execution_count": 77,
   "id": "6dd50488",
   "metadata": {
    "colab": {
     "base_uri": "https://localhost:8080/"
    },
    "id": "6dd50488",
    "outputId": "c9211630-2d7b-46f0-b991-e4ebab82ff52"
   },
   "outputs": [
    {
     "name": "stdout",
     "output_type": "stream",
     "text": [
      "               precision    recall  f1-score   support\n",
      "\n",
      "        toxic       0.59      0.91      0.71      2035\n",
      " severe_toxic       0.25      0.48      0.33       169\n",
      "      obscene       0.72      0.90      0.80      1393\n",
      "       threat       0.24      0.66      0.36        35\n",
      "       insult       0.57      0.80      0.67      1148\n",
      "identity_hate       0.29      0.62      0.40       136\n",
      "\n",
      "    micro avg       0.58      0.86      0.69      4916\n",
      "    macro avg       0.44      0.73      0.54      4916\n",
      " weighted avg       0.60      0.86      0.70      4916\n",
      "  samples avg       0.05      0.05      0.05      4916\n",
      "\n"
     ]
    }
   ],
   "source": [
    "print(classification_report(model7.predict(X_test),Y_test,target_names=columns,zero_division=0))"
   ]
  },
  {
   "cell_type": "code",
   "execution_count": 78,
   "id": "b685518c",
   "metadata": {},
   "outputs": [
    {
     "name": "stdout",
     "output_type": "stream",
     "text": [
      "La puntuación del modelo 7 es :  0.91731 \n"
     ]
    }
   ],
   "source": [
    "from sklearn.metrics import accuracy_score\n",
    "print(\"La puntuación del modelo 7 es :  %2.5f \" %(accuracy_score(model7.predict(X_test),Y_test)))"
   ]
  },
  {
   "cell_type": "markdown",
   "id": "51564749",
   "metadata": {
    "id": "51564749"
   },
   "source": [
    "# Valor de predicción"
   ]
  },
  {
   "cell_type": "code",
   "execution_count": 79,
   "id": "_tQIMR24-krB",
   "metadata": {
    "colab": {
     "base_uri": "https://localhost:8080/"
    },
    "id": "_tQIMR24-krB",
    "outputId": "0a6757c5-c80a-4db2-8d1b-6e4e33103b0c"
   },
   "outputs": [
    {
     "name": "stderr",
     "output_type": "stream",
     "text": [
      "[nltk_data] Downloading package stopwords to\n",
      "[nltk_data]     C:\\Users\\usuario\\AppData\\Roaming\\nltk_data...\n",
      "[nltk_data]   Package stopwords is already up-to-date!\n",
      "[nltk_data] Downloading package words to\n",
      "[nltk_data]     C:\\Users\\usuario\\AppData\\Roaming\\nltk_data...\n",
      "[nltk_data]   Package words is already up-to-date!\n",
      "[nltk_data] Downloading package punkt to\n",
      "[nltk_data]     C:\\Users\\usuario\\AppData\\Roaming\\nltk_data...\n",
      "[nltk_data]   Package punkt is already up-to-date!\n",
      "[nltk_data] Downloading package wordnet to\n",
      "[nltk_data]     C:\\Users\\usuario\\AppData\\Roaming\\nltk_data...\n",
      "[nltk_data]   Package wordnet is already up-to-date!\n"
     ]
    },
    {
     "data": {
      "text/plain": [
       "True"
      ]
     },
     "execution_count": 79,
     "metadata": {},
     "output_type": "execute_result"
    }
   ],
   "source": [
    "nltk.download('stopwords')\n",
    "nltk.download('words')\n",
    "nltk.download('punkt')\n",
    "nltk.download('wordnet')"
   ]
  },
  {
   "cell_type": "code",
   "execution_count": 80,
   "id": "bad430b5",
   "metadata": {
    "id": "bad430b5"
   },
   "outputs": [],
   "source": [
    "lemmatizer=WordNetLemmatizer()\n",
    "stop_words=stopwords.words('english')"
   ]
  },
  {
   "cell_type": "code",
   "execution_count": 81,
   "id": "9882a756",
   "metadata": {
    "id": "9882a756"
   },
   "outputs": [],
   "source": [
    "def predict_toxicity(text):\n",
    "  text=text.lower()\n",
    "    #statement1-removing special characters and Punctuation\n",
    "  sentence=re.sub(r'[^\\w\\s]','',text)\n",
    "    #statement2-removing numbers from text\n",
    "  sentence=re.sub(r'[0-9]+','',sentence)\n",
    "    #statement3-removing html tags and urls from text\n",
    "  sentence = re.sub(r'<.*?>', '', sentence)\n",
    "    #statement4-removing urls from text\n",
    "  clean_text = re.sub(r'http\\S+', '',sentence)\n",
    "    #statement5-text to word tokenization\n",
    "  sentence=nltk.word_tokenize(clean_text)\n",
    "    #statement6-removing stop_words\n",
    "  i=0\n",
    "  while i<10:\n",
    "    sentence = [word for word in sentence if word.lower() not in stop_words]\n",
    "    i=i+1\n",
    "  lst=[]\n",
    "   #statement7-lemmatization\n",
    "  for word in sentence:\n",
    "    lst.append(lemmatizer.lemmatize(word))\n",
    "  #statement8-joing words to form sentence\n",
    "  cleaned_text=' '.join(lst)\n",
    "  return model1.predict(vectorizer.transform([cleaned_text]))"
   ]
  },
  {
   "cell_type": "code",
   "execution_count": 82,
   "id": "a8TY99sl66nj",
   "metadata": {
    "colab": {
     "base_uri": "https://localhost:8080/"
    },
    "id": "a8TY99sl66nj",
    "outputId": "1afd47eb-ee35-4896-db92-ea73511764c3"
   },
   "outputs": [
    {
     "data": {
      "text/plain": [
       "['toxic', 'severe_toxic', 'obscene', 'threat', 'insult', 'identity_hate']"
      ]
     },
     "execution_count": 82,
     "metadata": {},
     "output_type": "execute_result"
    }
   ],
   "source": [
    "columns"
   ]
  },
  {
   "cell_type": "code",
   "execution_count": 138,
   "id": "e6286d1f",
   "metadata": {
    "colab": {
     "base_uri": "https://localhost:8080/"
    },
    "id": "e6286d1f",
    "outputId": "edd094dd-2174-4403-abd7-07f84be395a9"
   },
   "outputs": [
    {
     "name": "stdout",
     "output_type": "stream",
     "text": [
      "Palabras tóxicas\n",
      "toxic,severe_toxic,obscene,threat,insult,identity_hate\n",
      "La palabra idiot: [[1. 0. 1. 0. 1. 0.]]\n",
      "La palabra fuck: [[1. 1. 1. 0. 1. 0.]]\n",
      "La palabra stupid: [[1. 0. 1. 0. 1. 0.]]\n",
      "La palabra dumbass: [[1. 0. 1. 0. 1. 0.]]\n",
      "La palabra motherfucker: [[1. 0. 1. 0. 1. 0.]]\n",
      "La palabra crap: [[1. 0. 1. 0. 0. 0.]]\n",
      "La palabra asshole: [[1. 0. 1. 0. 1. 0.]]\n",
      "La palabra suck : [[1. 0. 1. 0. 1. 0.]]\n",
      "La palabra shit: [[1. 0. 1. 0. 0. 0.]]\n",
      "La palabra ass: [[1. 0. 1. 0. 1. 0.]]\n",
      "La palabra bullshit: [[1. 0. 1. 0. 0. 0.]]\n",
      "La palabra hell: [[1. 0. 0. 0. 0. 0.]]\n",
      "La palabra bastard: [[1. 0. 1. 0. 1. 0.]]\n",
      "La palabra pussy: [[1. 0. 1. 0. 1. 0.]]\n",
      "La palabra bastard: [[1. 0. 1. 0. 1. 0.]]\n",
      "La palabra bitch: [[1. 0. 1. 0. 1. 0.]]\n",
      "La palabra cock: [[1. 0. 1. 0. 0. 0.]]\n",
      "La palabra whore: [[1. 0. 1. 0. 1. 0.]]\n",
      "La palabra jerk: [[1. 0. 1. 0. 1. 0.]]\n",
      "La palabra piss: [[1. 0. 1. 0. 1. 0.]]\n",
      "La palabra black ass: [[1. 0. 1. 0. 1. 1.]]\n",
      "--------------------------------\n",
      "Palabras no tóxicas\n",
      "La palabra love: [[0. 0. 0. 0. 0. 0.]]\n",
      "La palabra beautiful: [[0. 0. 0. 0. 0. 0.]]\n",
      "La palabra handsome: [[0. 0. 0. 0. 0. 0.]]\n",
      "La palabra pretty: [[0. 0. 0. 0. 0. 0.]]\n",
      "La palabra felicity: [[0. 0. 0. 0. 0. 0.]]\n",
      "La palabra peace: [[0. 0. 0. 0. 0. 0.]]\n",
      "La palabra bumblebee: [[0. 0. 0. 0. 0. 0.]]\n",
      "La palabra dog: [[0. 0. 0. 0. 0. 0.]]\n",
      "La palabra cat: [[0. 0. 0. 0. 0. 0.]]\n",
      "La palabra pretty: [[0. 0. 0. 0. 0. 0.]]\n"
     ]
    }
   ],
   "source": [
    "print(\"Palabras tóxicas\")\n",
    "print(\"toxic,severe_toxic,obscene,threat,insult,identity_hate\")\n",
    "print(\"La palabra idiot:\", predict_toxicity('idiot'))\n",
    "print(\"La palabra fuck:\", predict_toxicity('fuck'))\n",
    "print(\"La palabra stupid:\", predict_toxicity('stupid'))\n",
    "print(\"La palabra dumbass:\", predict_toxicity('dumbass'))\n",
    "print(\"La palabra motherfucker:\", predict_toxicity('motherfucker'))\n",
    "print(\"La palabra crap:\", predict_toxicity('crap'))\n",
    "print(\"La palabra asshole:\", predict_toxicity('asshole'))\n",
    "print(\"La palabra suck :\", predict_toxicity('suck '))\n",
    "print(\"La palabra shit:\", predict_toxicity('shit'))\n",
    "print(\"La palabra ass:\", predict_toxicity('ass'))\n",
    "print(\"La palabra bullshit:\", predict_toxicity('bullshit'))\n",
    "print(\"La palabra hell:\", predict_toxicity('hell'))\n",
    "print(\"La palabra bastard:\", predict_toxicity('bastard'))\n",
    "print(\"La palabra pussy:\", predict_toxicity('pussy'))\n",
    "print(\"La palabra bastard:\", predict_toxicity('bastard'))\n",
    "print(\"La palabra bitch:\", predict_toxicity('bitch'))\n",
    "print(\"La palabra cock:\", predict_toxicity('cock'))\n",
    "print(\"La palabra whore:\", predict_toxicity('whore'))\n",
    "print(\"La palabra jerk:\", predict_toxicity('jerk'))\n",
    "print(\"La palabra piss:\", predict_toxicity('piss'))\n",
    "print(\"La palabra black ass:\", predict_toxicity('black ass'))\n",
    "\n",
    "print(\"--------------------------------\")\n",
    "print(\"Palabras no tóxicas\")\n",
    "print(\"La palabra love:\", predict_toxicity('love'))\n",
    "print(\"La palabra beautiful:\", predict_toxicity('beautiful'))\n",
    "print(\"La palabra handsome:\", predict_toxicity('handsome'))\n",
    "print(\"La palabra pretty:\", predict_toxicity('pretty'))\n",
    "print(\"La palabra felicity:\", predict_toxicity('felicity'))\n",
    "print(\"La palabra peace:\", predict_toxicity('peace'))\n",
    "print(\"La palabra bumblebee:\", predict_toxicity('bumblebee'))\n",
    "print(\"La palabra dog:\", predict_toxicity('dog'))\n",
    "print(\"La palabra cat:\", predict_toxicity('cat'))\n",
    "print(\"La palabra pretty:\", predict_toxicity('pretty'))"
   ]
  },
  {
   "cell_type": "code",
   "execution_count": 84,
   "id": "9588b0fb",
   "metadata": {},
   "outputs": [
    {
     "name": "stdout",
     "output_type": "stream",
     "text": [
      "[[[28571  1209]\n",
      "  [  183  1939]]\n",
      "\n",
      " [[31522   256]\n",
      "  [   54    70]]\n",
      "\n",
      " [[30009   496]\n",
      "  [  153  1244]]\n",
      "\n",
      " [[31804    83]\n",
      "  [    4    11]]\n",
      "\n",
      " [[29933   603]\n",
      "  [  348  1018]]\n",
      "\n",
      " [[31583   218]\n",
      "  [   28    73]]]\n"
     ]
    }
   ],
   "source": [
    "from sklearn.metrics import multilabel_confusion_matrix\n",
    "cm = multilabel_confusion_matrix(model1.predict(X_test),Y_test)\n",
    "print(cm)\n"
   ]
  },
  {
   "cell_type": "markdown",
   "id": "b2ea5d8b",
   "metadata": {},
   "source": [
    "La siguiente figura de correlación muestra que los comentarios \"tóxicos\" están claramente correlacionados con los comentarios \"obscenos\" e \"insultantes\". Curiosamente, \"tóxico\" y \"severo_tóxico\" solo están débilmente correlacionados. Aunque también podemos observar que los comentarios \"obscenos\" y \" Los comentarios de \"insulto\" también están altamente correlacionados, lo que tiene mucho sentido."
   ]
  },
  {
   "cell_type": "code",
   "execution_count": 93,
   "id": "33eea8dc",
   "metadata": {},
   "outputs": [],
   "source": [
    "import pandas as pd\n",
    "import matplotlib.pyplot as plt\n",
    "import seaborn as sns\n",
    "\n",
    "\n",
    "def print_confusion_matrix(confusion_matrix, axes, class_label, class_names, fontsize=14):\n",
    "\n",
    "    df_cm = pd.DataFrame(\n",
    "        confusion_matrix, index=class_names, columns=class_names,\n",
    "    )\n",
    "\n",
    "    try:\n",
    "        heatmap = sns.heatmap(df_cm, annot=True, fmt=\"d\", cbar=False, ax=axes)\n",
    "    except ValueError:\n",
    "        raise ValueError(\"Confusion matrix values must be integers.\")\n",
    "    heatmap.yaxis.set_ticklabels(heatmap.yaxis.get_ticklabels(), rotation=0, ha='right', fontsize=fontsize)\n",
    "    heatmap.xaxis.set_ticklabels(heatmap.xaxis.get_ticklabels(), rotation=45, ha='right', fontsize=fontsize)\n",
    "    axes.set_ylabel('True label')\n",
    "    axes.set_xlabel('Predicted label')\n",
    "    axes.set_title(\"Confusion Matrix for the class - \" + class_label)\n",
    "    \n",
    "    "
   ]
  },
  {
   "cell_type": "code",
   "execution_count": 94,
   "id": "2414acf2",
   "metadata": {
    "scrolled": false
   },
   "outputs": [
    {
     "name": "stderr",
     "output_type": "stream",
     "text": [
      "C:\\Users\\usuario\\AppData\\Local\\Temp\\ipykernel_24088\\1353396351.py:3: FutureWarning: Dropping of nuisance columns in DataFrame reductions (with 'numeric_only=None') is deprecated; in a future version this will raise TypeError.  Select only valid columns before calling the reduction.\n",
      "  rowsums = final_data.iloc[:, 2:].sum(axis=1)\n"
     ]
    },
    {
     "data": {
      "text/plain": [
       "<AxesSubplot:>"
      ]
     },
     "execution_count": 94,
     "metadata": {},
     "output_type": "execute_result"
    },
    {
     "data": {
      "image/png": "[encoded data removed]",
      "text/plain": [
       "<Figure size 1000x800 with 2 Axes>"
      ]
     },
     "metadata": {},
     "output_type": "display_data"
    }
   ],
   "source": [
    "# Matriz de correlación cruzada entre etiquetas\n",
    "import seaborn as sns\n",
    "rowsums = final_data.iloc[:, 2:].sum(axis=1)\n",
    "temp = final_data.iloc[:, 2:-1]\n",
    "train_corr = temp[rowsums > 0]\n",
    "corr = train_corr.corr()\n",
    "plt.figure(figsize=(10, 8))\n",
    "sns.heatmap(corr,\n",
    "            xticklabels=corr.columns.values,\n",
    "            yticklabels=corr.columns.values, annot=True, cmap=\"Blues\")"
   ]
  },
  {
   "cell_type": "code",
   "execution_count": 95,
   "id": "8829ebc8",
   "metadata": {},
   "outputs": [
    {
     "name": "stderr",
     "output_type": "stream",
     "text": [
      "C:\\Users\\usuario\\AppData\\Local\\Temp\\ipykernel_24088\\1193290162.py:18: UserWarning: Matplotlib is currently using module://matplotlib_inline.backend_inline, which is a non-GUI backend, so cannot show the figure.\n",
      "  fig.show()\n"
     ]
    },
    {
     "data": {
      "image/png": "[encoded data removed]",
      "text/plain": [
       "<Figure size 1000x500 with 3 Axes>"
      ]
     },
     "metadata": {},
     "output_type": "display_data"
    }
   ],
   "source": [
    "# import matplotlib.pyplot as plt\n",
    "import matplotlib.ticker as mtick\n",
    "\n",
    "fig, (ax1, ax2) = plt.subplots(1, 2, figsize=(10, 5), constrained_layout=True)\n",
    "\n",
    "# Labels distribution barplot\n",
    "labels_ratio = final_data[columns].mean()\n",
    "labels_ratio.plot(kind=\"bar\", ax=ax1)\n",
    "ax1.yaxis.set_major_formatter(mtick.PercentFormatter(1.0, decimals=False))\n",
    "for p in ax1.patches:\n",
    "    ax1.set_ylim(0, 1.1 * labels_ratio.max())\n",
    "    ax1.annotate(f\"{p.get_height():.2%}\", (p.get_x() + 0.005, p.get_height() + 0.002))\n",
    "ax1.set_title(\"Labels ratio\");\n",
    "\n",
    "# Labels correlation heatmap\n",
    "ax2 = sns.heatmap(final_data[columns].corr())\n",
    "ax2.set_title(\"Correlación entre etiquetas\")\n",
    "fig.show()"
   ]
  }
 ],
 "metadata": {
  "accelerator": "GPU",
  "colab": {
   "include_colab_link": true,
   "provenance": []
  },
  "gpuClass": "standard",
  "kernelspec": {
   "display_name": "Python 3 (ipykernel)",
   "language": "python",
   "name": "python3"
  },
  "language_info": {
   "codemirror_mode": {
    "name": "ipython",
    "version": 3
   },
   "file_extension": ".py",
   "mimetype": "text/x-python",
   "name": "python",
   "nbconvert_exporter": "python",
   "pygments_lexer": "ipython3",
   "version": "3.9.13"
  }
 },
 "nbformat": 4,
 "nbformat_minor": 5
}
